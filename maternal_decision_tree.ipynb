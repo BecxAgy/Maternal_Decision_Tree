{
  "nbformat": 4,
  "nbformat_minor": 0,
  "metadata": {
    "colab": {
      "provenance": []
    },
    "kernelspec": {
      "name": "python3",
      "display_name": "Python 3"
    }
  },
  "cells": [
    {
      "cell_type": "markdown",
      "metadata": {
        "id": "37puETfgRzzg"
      },
      "source": [
        "# Data Preprocessing Tools"
      ]
    },
    {
      "cell_type": "markdown",
      "metadata": {
        "id": "EoRP98MpR-qj"
      },
      "source": [
        "## Importing the libraries"
      ]
    },
    {
      "cell_type": "code",
      "source": [
        "import numpy as np\n",
        "import matplotlib.pyplot as plt\n",
        "import pandas as pd\n"
      ],
      "metadata": {
        "id": "L9vWZaAtSVZC"
      },
      "execution_count": null,
      "outputs": []
    },
    {
      "cell_type": "markdown",
      "metadata": {
        "id": "RopL7tUZSQkT"
      },
      "source": [
        "## Importing the dataset"
      ]
    },
    {
      "cell_type": "code",
      "source": [
        "data = pd.read_csv(\"maternal.csv\")"
      ],
      "metadata": {
        "id": "5nqclXF1Sohh"
      },
      "execution_count": null,
      "outputs": []
    },
    {
      "cell_type": "code",
      "source": [
        "data\n"
      ],
      "metadata": {
        "colab": {
          "base_uri": "https://localhost:8080/",
          "height": 424
        },
        "id": "IG5yYTJsSwEh",
        "outputId": "6e9006b5-558d-4f65-ccef-37eef190b754"
      },
      "execution_count": null,
      "outputs": [
        {
          "output_type": "execute_result",
          "data": {
            "text/plain": [
              "      Age  SystolicBP  DiastolicBP    BS  BodyTemp  HeartRate  RiskLevel\n",
              "0      25         130           80  15.0      98.0         86  high risk\n",
              "1      35         140           90  13.0      98.0         70  high risk\n",
              "2      29          90           70   8.0     100.0         80  high risk\n",
              "3      30         140           85   7.0      98.0         70  high risk\n",
              "4      35         120           60   6.1      98.0         76   low risk\n",
              "...   ...         ...          ...   ...       ...        ...        ...\n",
              "1009   22         120           60  15.0      98.0         80  high risk\n",
              "1010   55         120           90  18.0      98.0         60  high risk\n",
              "1011   35          85           60  19.0      98.0         86  high risk\n",
              "1012   43         120           90  18.0      98.0         70  high risk\n",
              "1013   32         120           65   6.0     101.0         76   mid risk\n",
              "\n",
              "[1014 rows x 7 columns]"
            ],
            "text/html": [
              "\n",
              "  <div id=\"df-779a7d7f-83fe-4e1b-bae1-3dc9c7e9b3c8\">\n",
              "    <div class=\"colab-df-container\">\n",
              "      <div>\n",
              "<style scoped>\n",
              "    .dataframe tbody tr th:only-of-type {\n",
              "        vertical-align: middle;\n",
              "    }\n",
              "\n",
              "    .dataframe tbody tr th {\n",
              "        vertical-align: top;\n",
              "    }\n",
              "\n",
              "    .dataframe thead th {\n",
              "        text-align: right;\n",
              "    }\n",
              "</style>\n",
              "<table border=\"1\" class=\"dataframe\">\n",
              "  <thead>\n",
              "    <tr style=\"text-align: right;\">\n",
              "      <th></th>\n",
              "      <th>Age</th>\n",
              "      <th>SystolicBP</th>\n",
              "      <th>DiastolicBP</th>\n",
              "      <th>BS</th>\n",
              "      <th>BodyTemp</th>\n",
              "      <th>HeartRate</th>\n",
              "      <th>RiskLevel</th>\n",
              "    </tr>\n",
              "  </thead>\n",
              "  <tbody>\n",
              "    <tr>\n",
              "      <th>0</th>\n",
              "      <td>25</td>\n",
              "      <td>130</td>\n",
              "      <td>80</td>\n",
              "      <td>15.0</td>\n",
              "      <td>98.0</td>\n",
              "      <td>86</td>\n",
              "      <td>high risk</td>\n",
              "    </tr>\n",
              "    <tr>\n",
              "      <th>1</th>\n",
              "      <td>35</td>\n",
              "      <td>140</td>\n",
              "      <td>90</td>\n",
              "      <td>13.0</td>\n",
              "      <td>98.0</td>\n",
              "      <td>70</td>\n",
              "      <td>high risk</td>\n",
              "    </tr>\n",
              "    <tr>\n",
              "      <th>2</th>\n",
              "      <td>29</td>\n",
              "      <td>90</td>\n",
              "      <td>70</td>\n",
              "      <td>8.0</td>\n",
              "      <td>100.0</td>\n",
              "      <td>80</td>\n",
              "      <td>high risk</td>\n",
              "    </tr>\n",
              "    <tr>\n",
              "      <th>3</th>\n",
              "      <td>30</td>\n",
              "      <td>140</td>\n",
              "      <td>85</td>\n",
              "      <td>7.0</td>\n",
              "      <td>98.0</td>\n",
              "      <td>70</td>\n",
              "      <td>high risk</td>\n",
              "    </tr>\n",
              "    <tr>\n",
              "      <th>4</th>\n",
              "      <td>35</td>\n",
              "      <td>120</td>\n",
              "      <td>60</td>\n",
              "      <td>6.1</td>\n",
              "      <td>98.0</td>\n",
              "      <td>76</td>\n",
              "      <td>low risk</td>\n",
              "    </tr>\n",
              "    <tr>\n",
              "      <th>...</th>\n",
              "      <td>...</td>\n",
              "      <td>...</td>\n",
              "      <td>...</td>\n",
              "      <td>...</td>\n",
              "      <td>...</td>\n",
              "      <td>...</td>\n",
              "      <td>...</td>\n",
              "    </tr>\n",
              "    <tr>\n",
              "      <th>1009</th>\n",
              "      <td>22</td>\n",
              "      <td>120</td>\n",
              "      <td>60</td>\n",
              "      <td>15.0</td>\n",
              "      <td>98.0</td>\n",
              "      <td>80</td>\n",
              "      <td>high risk</td>\n",
              "    </tr>\n",
              "    <tr>\n",
              "      <th>1010</th>\n",
              "      <td>55</td>\n",
              "      <td>120</td>\n",
              "      <td>90</td>\n",
              "      <td>18.0</td>\n",
              "      <td>98.0</td>\n",
              "      <td>60</td>\n",
              "      <td>high risk</td>\n",
              "    </tr>\n",
              "    <tr>\n",
              "      <th>1011</th>\n",
              "      <td>35</td>\n",
              "      <td>85</td>\n",
              "      <td>60</td>\n",
              "      <td>19.0</td>\n",
              "      <td>98.0</td>\n",
              "      <td>86</td>\n",
              "      <td>high risk</td>\n",
              "    </tr>\n",
              "    <tr>\n",
              "      <th>1012</th>\n",
              "      <td>43</td>\n",
              "      <td>120</td>\n",
              "      <td>90</td>\n",
              "      <td>18.0</td>\n",
              "      <td>98.0</td>\n",
              "      <td>70</td>\n",
              "      <td>high risk</td>\n",
              "    </tr>\n",
              "    <tr>\n",
              "      <th>1013</th>\n",
              "      <td>32</td>\n",
              "      <td>120</td>\n",
              "      <td>65</td>\n",
              "      <td>6.0</td>\n",
              "      <td>101.0</td>\n",
              "      <td>76</td>\n",
              "      <td>mid risk</td>\n",
              "    </tr>\n",
              "  </tbody>\n",
              "</table>\n",
              "<p>1014 rows × 7 columns</p>\n",
              "</div>\n",
              "      <button class=\"colab-df-convert\" onclick=\"convertToInteractive('df-779a7d7f-83fe-4e1b-bae1-3dc9c7e9b3c8')\"\n",
              "              title=\"Convert this dataframe to an interactive table.\"\n",
              "              style=\"display:none;\">\n",
              "        \n",
              "  <svg xmlns=\"http://www.w3.org/2000/svg\" height=\"24px\"viewBox=\"0 0 24 24\"\n",
              "       width=\"24px\">\n",
              "    <path d=\"M0 0h24v24H0V0z\" fill=\"none\"/>\n",
              "    <path d=\"M18.56 5.44l.94 2.06.94-2.06 2.06-.94-2.06-.94-.94-2.06-.94 2.06-2.06.94zm-11 1L8.5 8.5l.94-2.06 2.06-.94-2.06-.94L8.5 2.5l-.94 2.06-2.06.94zm10 10l.94 2.06.94-2.06 2.06-.94-2.06-.94-.94-2.06-.94 2.06-2.06.94z\"/><path d=\"M17.41 7.96l-1.37-1.37c-.4-.4-.92-.59-1.43-.59-.52 0-1.04.2-1.43.59L10.3 9.45l-7.72 7.72c-.78.78-.78 2.05 0 2.83L4 21.41c.39.39.9.59 1.41.59.51 0 1.02-.2 1.41-.59l7.78-7.78 2.81-2.81c.8-.78.8-2.07 0-2.86zM5.41 20L4 18.59l7.72-7.72 1.47 1.35L5.41 20z\"/>\n",
              "  </svg>\n",
              "      </button>\n",
              "      \n",
              "  <style>\n",
              "    .colab-df-container {\n",
              "      display:flex;\n",
              "      flex-wrap:wrap;\n",
              "      gap: 12px;\n",
              "    }\n",
              "\n",
              "    .colab-df-convert {\n",
              "      background-color: #E8F0FE;\n",
              "      border: none;\n",
              "      border-radius: 50%;\n",
              "      cursor: pointer;\n",
              "      display: none;\n",
              "      fill: #1967D2;\n",
              "      height: 32px;\n",
              "      padding: 0 0 0 0;\n",
              "      width: 32px;\n",
              "    }\n",
              "\n",
              "    .colab-df-convert:hover {\n",
              "      background-color: #E2EBFA;\n",
              "      box-shadow: 0px 1px 2px rgba(60, 64, 67, 0.3), 0px 1px 3px 1px rgba(60, 64, 67, 0.15);\n",
              "      fill: #174EA6;\n",
              "    }\n",
              "\n",
              "    [theme=dark] .colab-df-convert {\n",
              "      background-color: #3B4455;\n",
              "      fill: #D2E3FC;\n",
              "    }\n",
              "\n",
              "    [theme=dark] .colab-df-convert:hover {\n",
              "      background-color: #434B5C;\n",
              "      box-shadow: 0px 1px 3px 1px rgba(0, 0, 0, 0.15);\n",
              "      filter: drop-shadow(0px 1px 2px rgba(0, 0, 0, 0.3));\n",
              "      fill: #FFFFFF;\n",
              "    }\n",
              "  </style>\n",
              "\n",
              "      <script>\n",
              "        const buttonEl =\n",
              "          document.querySelector('#df-779a7d7f-83fe-4e1b-bae1-3dc9c7e9b3c8 button.colab-df-convert');\n",
              "        buttonEl.style.display =\n",
              "          google.colab.kernel.accessAllowed ? 'block' : 'none';\n",
              "\n",
              "        async function convertToInteractive(key) {\n",
              "          const element = document.querySelector('#df-779a7d7f-83fe-4e1b-bae1-3dc9c7e9b3c8');\n",
              "          const dataTable =\n",
              "            await google.colab.kernel.invokeFunction('convertToInteractive',\n",
              "                                                     [key], {});\n",
              "          if (!dataTable) return;\n",
              "\n",
              "          const docLinkHtml = 'Like what you see? Visit the ' +\n",
              "            '<a target=\"_blank\" href=https://colab.research.google.com/notebooks/data_table.ipynb>data table notebook</a>'\n",
              "            + ' to learn more about interactive tables.';\n",
              "          element.innerHTML = '';\n",
              "          dataTable['output_type'] = 'display_data';\n",
              "          await google.colab.output.renderOutput(dataTable, element);\n",
              "          const docLink = document.createElement('div');\n",
              "          docLink.innerHTML = docLinkHtml;\n",
              "          element.appendChild(docLink);\n",
              "        }\n",
              "      </script>\n",
              "    </div>\n",
              "  </div>\n",
              "  "
            ]
          },
          "metadata": {},
          "execution_count": 181
        }
      ]
    },
    {
      "cell_type": "code",
      "source": [
        "#Features que vão até antes do limite da última coluna\n",
        "#Se tenho 5 colunas, pego todas até a quarta\n",
        "X = data.iloc[:,:-1].values \n",
        "#Pegando apenas a ultima coluna\n",
        "y = data.iloc[:, -1].values\n",
        "\n",
        "print(y)\n",
        "\n",
        "\n"
      ],
      "metadata": {
        "colab": {
          "base_uri": "https://localhost:8080/"
        },
        "id": "ywUn6AvrTcI4",
        "outputId": "15ebebf3-ca75-4674-92ca-5c3ad830054f"
      },
      "execution_count": null,
      "outputs": [
        {
          "output_type": "stream",
          "name": "stdout",
          "text": [
            "['high risk' 'high risk' 'high risk' ... 'high risk' 'high risk'\n",
            " 'mid risk']\n"
          ]
        }
      ]
    },
    {
      "cell_type": "markdown",
      "metadata": {
        "id": "nhfKXNxlSabC"
      },
      "source": [
        "## Taking care of missing data"
      ]
    },
    {
      "cell_type": "code",
      "source": [
        "from sklearn.impute import SimpleImputer\n",
        "#Criando instância do imputer para normalização de dados pela média\n",
        "imputer = SimpleImputer(missing_values=np.nan, strategy='mean')"
      ],
      "metadata": {
        "id": "J7pVfHMmTCnA"
      },
      "execution_count": null,
      "outputs": []
    },
    {
      "cell_type": "code",
      "source": [
        "print(data.isnull().sum())"
      ],
      "metadata": {
        "id": "yiTyWGLoiXLR",
        "colab": {
          "base_uri": "https://localhost:8080/"
        },
        "outputId": "832c7574-b7a8-442a-ae85-9c6b7b190853"
      },
      "execution_count": null,
      "outputs": [
        {
          "output_type": "stream",
          "name": "stdout",
          "text": [
            "Age            0\n",
            "SystolicBP     0\n",
            "DiastolicBP    0\n",
            "BS             0\n",
            "BodyTemp       0\n",
            "HeartRate      0\n",
            "RiskLevel      0\n",
            "dtype: int64\n"
          ]
        }
      ]
    },
    {
      "cell_type": "markdown",
      "metadata": {
        "id": "CriG6VzVSjcK"
      },
      "source": [
        "## Encoding categorical data"
      ]
    },
    {
      "cell_type": "markdown",
      "metadata": {
        "id": "DXh8oVSITIc6"
      },
      "source": [
        "### Encoding the Dependent Variable"
      ]
    },
    {
      "cell_type": "code",
      "source": [
        "from sklearn.preprocessing import LabelEncoder\n",
        "le = LabelEncoder()\n",
        "\n",
        "y = le.fit_transform(y)\n",
        "\n",
        "typeRisk = data.iloc[:, -1].unique()\n",
        "print(typeRisk)\n",
        "print( le.fit_transform(typeRisk))\n"
      ],
      "metadata": {
        "colab": {
          "base_uri": "https://localhost:8080/"
        },
        "id": "yqO6Z9fbtPkG",
        "outputId": "617bac6a-abcf-4256-ace9-a416aa8b52d9"
      },
      "execution_count": null,
      "outputs": [
        {
          "output_type": "stream",
          "name": "stdout",
          "text": [
            "['high risk' 'low risk' 'mid risk']\n",
            "[0 1 2]\n"
          ]
        }
      ]
    },
    {
      "cell_type": "markdown",
      "source": [
        "# Remove Outliers"
      ],
      "metadata": {
        "id": "ya7EaMuhq-mf"
      }
    },
    {
      "cell_type": "markdown",
      "source": [
        "**O que são outliers?**\n",
        "\n",
        "Os outliers são dados que se diferenciam drasticamente de todos os outros. Em outras palavras, um outlier é um valor que foge da normalidade e que pode (e provavelmente irá) causar anomalias nos resultados obtidos por meio de algoritmos e sistemas de análise."
      ],
      "metadata": {
        "id": "YbcCzEWrsOKU"
      }
    },
    {
      "cell_type": "markdown",
      "source": [
        "**Como identificar os Outliers?**\n",
        "\n",
        "\n",
        "\n",
        "*   Análise Quantitativa\n",
        "\n",
        "  *   Z-Score\n",
        "  *   Amplitude Interquartil\n",
        "\n",
        "*   Análise Qualitativa \n",
        "  *   scatter plot\n",
        "  *   box plot \n",
        "\n",
        "\n",
        "\n",
        "\n",
        "\n",
        "\n",
        "\n",
        "\n"
      ],
      "metadata": {
        "id": "Xwvo6sVYte6W"
      }
    },
    {
      "cell_type": "markdown",
      "source": [],
      "metadata": {
        "id": "9SvJecWlwYCX"
      }
    },
    {
      "cell_type": "markdown",
      "source": [
        "**Identificando Outlier com Z- Score**\n",
        "\n",
        "O z-score nos dá uma idéia do quanto um determinado ponto está afastado da média dos dados.\n",
        "Mede quantos desvios padrão abaixo ou acima da média populacional os dados estão\n",
        " \n",
        "Onde:\n",
        "\\begin{equation*}\n",
        "\\large\n",
        "z = \n",
        "\\frac{x -  \\mu}{\\sigma} \n",
        "\\end{equation*}\n",
        "\n",
        "x: observação\n",
        "\n",
        "𝜇: média\n",
        "\n",
        "𝜎: desvio padrão\n",
        "\n",
        "\n",
        "**Distribuição Normal**\n",
        "\n",
        "Quanto mais longe o Z-score de uma observação está de zero, mais incomum ele é. Um valor de corte padrão para encontrar outliers são escores Z de +/- 3 ou mais longe de zero. A distribuição de probabilidade abaixo exibe a distribuição dos escores Z em uma distribuição normal padrão. Os escores Z além de +/- 3 são tão extremos que você mal consegue ver o sombreamento sob a curva."
      ],
      "metadata": {
        "id": "lxQWFT_1wTeH"
      }
    },
    {
      "cell_type": "code",
      "source": [
        "outliers=[]\n",
        "\n",
        "def find_outliers(data_set):\n",
        "    corte_dp =3\n",
        "    media = np.mean(data_set)\n",
        "    dp =np.std(data_set)\n",
        "  \n",
        "    for dado in data_set:\n",
        "        \n",
        "        z_score = (dado - media)/dp \n",
        "        if np.abs(z_score) > corte_dp:\n",
        "            outliers.append(dado)\n",
        "            \n",
        "    #print('Os outliers são: ', outliers)\n",
        "    \n",
        "    return outliers\n",
        "outliersBodyTemp = find_outliers(data['BodyTemp'])\n",
        "outliersHearthRate = find_outliers(data['HeartRate'])\n",
        "outliersBodyTemp\n",
        "outliersHearthRate"
      ],
      "metadata": {
        "colab": {
          "base_uri": "https://localhost:8080/"
        },
        "id": "lRGzI7Rdw1VV",
        "outputId": "03f56061-4911-4c07-a337-b79825900a9f"
      },
      "execution_count": null,
      "outputs": [
        {
          "output_type": "execute_result",
          "data": {
            "text/plain": [
              "[103.0,\n",
              " 103.0,\n",
              " 103.0,\n",
              " 103.0,\n",
              " 103.0,\n",
              " 103.0,\n",
              " 103.0,\n",
              " 103.0,\n",
              " 103.0,\n",
              " 103.0,\n",
              " 103.0,\n",
              " 103.0,\n",
              " 103.0,\n",
              " 7,\n",
              " 7]"
            ]
          },
          "metadata": {},
          "execution_count": 186
        }
      ]
    },
    {
      "cell_type": "code",
      "source": [
        "import seaborn as sns\n",
        "from matplotlib.cbook import boxplot_stats\n",
        "import matplotlib.pyplot as plt\n"
      ],
      "metadata": {
        "id": "qEBCh3s2rKIV"
      },
      "execution_count": null,
      "outputs": []
    },
    {
      "cell_type": "code",
      "source": [
        "data['HeartRate'].plot.hist(rwidth=0.4)"
      ],
      "metadata": {
        "colab": {
          "base_uri": "https://localhost:8080/",
          "height": 447
        },
        "id": "TO39kQ-Jrcyg",
        "outputId": "a4807ee4-7ff4-45a7-8b7c-525553e95f0b"
      },
      "execution_count": null,
      "outputs": [
        {
          "output_type": "execute_result",
          "data": {
            "text/plain": [
              "<Axes: ylabel='Frequency'>"
            ]
          },
          "metadata": {},
          "execution_count": 188
        },
        {
          "output_type": "display_data",
          "data": {
            "text/plain": [
              "<Figure size 640x480 with 1 Axes>"
            ],
            "image/png": "[encoded data removed]"
          },
          "metadata": {}
        }
      ]
    },
    {
      "cell_type": "code",
      "source": [
        "data['BodyTemp'].plot.hist(rwidth=0.4)"
      ],
      "metadata": {
        "colab": {
          "base_uri": "https://localhost:8080/",
          "height": 447
        },
        "id": "79mO0ZoVtDpj",
        "outputId": "a93d4ec5-ef09-4e13-f097-30aeab16f25d"
      },
      "execution_count": null,
      "outputs": [
        {
          "output_type": "execute_result",
          "data": {
            "text/plain": [
              "<Axes: ylabel='Frequency'>"
            ]
          },
          "metadata": {},
          "execution_count": 189
        },
        {
          "output_type": "display_data",
          "data": {
            "text/plain": [
              "<Figure size 640x480 with 1 Axes>"
            ],
            "image/png": "[encoded data removed]"
          },
          "metadata": {}
        }
      ]
    },
    {
      "cell_type": "code",
      "execution_count": null,
      "metadata": {
        "colab": {
          "base_uri": "https://localhost:8080/",
          "height": 430
        },
        "id": "OKl7FXjxIKav",
        "outputId": "807c25e0-512c-4ea9-9932-cfc9f547b391"
      },
      "outputs": [
        {
          "output_type": "display_data",
          "data": {
            "text/plain": [
              "<Figure size 640x480 with 1 Axes>"
            ],
            "image/png": "[encoded data removed]"
          },
          "metadata": {}
        }
      ],
      "source": [
        "#Boxplot: gráfico utilizado para avaliar a distribuição empírica do dados\n",
        "ax = sns.boxplot(data['HeartRate'])"
      ]
    },
    {
      "cell_type": "code",
      "source": [
        "data.drop(np.where(data[\"HeartRate\"].isin(outliers))[0], inplace=True)\n"
      ],
      "metadata": {
        "id": "sCyD8Oh942Ni"
      },
      "execution_count": null,
      "outputs": []
    },
    {
      "cell_type": "code",
      "source": [
        "data.shape"
      ],
      "metadata": {
        "colab": {
          "base_uri": "https://localhost:8080/"
        },
        "id": "lhdcmL9H4_SN",
        "outputId": "3af96c8f-71e7-44e2-d8cf-1e5c13752fa5"
      },
      "execution_count": null,
      "outputs": [
        {
          "output_type": "execute_result",
          "data": {
            "text/plain": [
              "(1012, 7)"
            ]
          },
          "metadata": {},
          "execution_count": 192
        }
      ]
    },
    {
      "cell_type": "code",
      "source": [
        "ax = sns.boxplot(data['HeartRate'])"
      ],
      "metadata": {
        "colab": {
          "base_uri": "https://localhost:8080/",
          "height": 430
        },
        "id": "-ns2c1-m6krj",
        "outputId": "76658099-3cd9-4881-cdf8-4cd36a996b66"
      },
      "execution_count": null,
      "outputs": [
        {
          "output_type": "display_data",
          "data": {
            "text/plain": [
              "<Figure size 640x480 with 1 Axes>"
            ],
            "image/png": "[encoded data removed]"
          },
          "metadata": {}
        }
      ]
    },
    {
      "cell_type": "markdown",
      "metadata": {
        "id": "qb_vcgm3qZKW"
      },
      "source": [
        "## Splitting the dataset into the Training set and Test set"
      ]
    },
    {
      "cell_type": "code",
      "source": [
        "from sklearn.model_selection import train_test_split\n",
        "X_train, X_test, y_train, y_test = train_test_split(X,y, test_size = 0.25, random_state=42, \n",
        "                                                 stratify=y, shuffle=True)"
      ],
      "metadata": {
        "id": "DxQjcTRe7IfQ"
      },
      "execution_count": null,
      "outputs": []
    },
    {
      "cell_type": "code",
      "source": [
        "print(X_train)"
      ],
      "metadata": {
        "colab": {
          "base_uri": "https://localhost:8080/"
        },
        "id": "zuEpJ23e-hRq",
        "outputId": "c8fa8af9-85a2-42ee-882b-f9664eea9c78"
      },
      "execution_count": null,
      "outputs": [
        {
          "output_type": "stream",
          "name": "stdout",
          "text": [
            "[[ 21.   90.   65.    6.9  98.   76. ]\n",
            " [ 48.  120.   80.   11.   98.   88. ]\n",
            " [ 18.   85.   60.    7.5 101.   86. ]\n",
            " ...\n",
            " [ 24.  120.   80.    7.5  98.   66. ]\n",
            " [ 17.   85.   60.    6.3 102.   86. ]\n",
            " [ 35.  100.   70.    6.9  98.   60. ]]\n"
          ]
        }
      ]
    },
    {
      "cell_type": "code",
      "source": [
        "print(X_test)"
      ],
      "metadata": {
        "colab": {
          "base_uri": "https://localhost:8080/"
        },
        "id": "QOoEBwVG-hY-",
        "outputId": "0d064b9f-4ba9-40a1-de2f-067d6d5606c9"
      },
      "execution_count": null,
      "outputs": [
        {
          "output_type": "stream",
          "name": "stdout",
          "text": [
            "[[ 33.  115.   65.    7.   98.   70. ]\n",
            " [ 30.  120.   80.    6.9 101.   76. ]\n",
            " [ 35.  100.   60.   15.   98.   80. ]\n",
            " ...\n",
            " [ 34.  120.   75.    8.   98.   70. ]\n",
            " [ 23.  120.   80.    7.5  98.   70. ]\n",
            " [ 50.  120.   80.    7.7  98.   70. ]]\n"
          ]
        }
      ]
    },
    {
      "cell_type": "code",
      "source": [
        "print(y_train)"
      ],
      "metadata": {
        "colab": {
          "base_uri": "https://localhost:8080/"
        },
        "id": "y0dbpg6w-hfo",
        "outputId": "9b557553-0ee0-4316-9504-b9ec606e094f"
      },
      "execution_count": null,
      "outputs": [
        {
          "output_type": "stream",
          "name": "stdout",
          "text": [
            "[1 0 2 1 1 2 1 1 1 2 1 2 2 0 1 2 0 2 0 1 0 2 2 2 1 1 0 1 2 1 2 1 2 1 1 2 1\n",
            " 2 2 1 0 1 0 1 1 0 1 2 1 0 1 1 2 1 1 1 1 0 1 1 0 2 2 1 2 2 1 0 2 2 1 1 0 2\n",
            " 2 0 2 2 2 1 0 1 2 2 0 2 2 0 2 1 0 1 2 2 1 2 2 1 1 1 2 2 1 1 2 1 1 0 1 1 2\n",
            " 1 1 2 1 1 1 2 2 2 1 2 0 2 0 2 2 1 2 1 2 1 1 1 2 2 1 1 1 2 0 1 1 0 1 2 2 1\n",
            " 2 0 1 1 1 1 1 0 2 0 1 2 1 0 1 0 0 2 2 1 2 1 1 1 1 1 2 1 0 0 1 1 2 1 2 1 0\n",
            " 1 0 1 2 0 0 0 2 1 1 0 0 0 0 1 1 2 2 1 0 0 0 2 2 2 0 1 1 2 0 0 1 0 1 1 1 0\n",
            " 0 0 2 0 1 1 0 1 2 2 1 0 0 1 1 0 0 1 1 0 1 2 2 0 2 0 2 1 1 0 2 2 0 1 2 2 2\n",
            " 0 1 1 0 0 1 0 1 2 1 0 1 1 2 1 2 1 2 0 0 0 1 1 1 2 2 0 1 1 1 2 2 0 1 2 1 0\n",
            " 1 1 0 2 1 2 0 2 1 1 1 1 1 1 0 1 2 1 2 1 2 2 0 0 2 0 1 1 1 1 0 1 1 2 2 2 1\n",
            " 1 2 1 2 1 1 1 1 0 1 2 2 2 2 2 2 2 1 0 0 1 1 1 1 0 1 1 2 0 1 0 1 2 1 1 2 0\n",
            " 1 2 2 1 1 1 2 0 1 0 0 1 2 2 0 1 2 2 1 2 1 0 2 1 2 0 1 2 1 2 0 2 1 1 1 0 2\n",
            " 1 2 0 0 1 0 1 0 0 0 2 0 1 2 2 1 2 0 1 0 2 1 1 0 0 2 1 1 2 2 2 2 0 1 2 1 2\n",
            " 1 1 0 0 2 2 1 1 1 2 0 2 0 2 2 1 0 2 1 2 2 0 1 0 2 1 2 0 0 0 0 2 1 2 1 0 1\n",
            " 1 2 2 1 0 0 1 2 1 2 0 2 2 1 2 2 0 2 1 0 2 0 0 2 0 2 2 1 2 0 1 2 0 2 1 0 1\n",
            " 1 1 0 1 1 1 2 1 0 0 0 0 1 1 1 2 0 1 1 2 2 2 0 1 2 2 2 0 2 2 1 0 0 0 1 0 2\n",
            " 2 0 2 1 1 0 1 2 0 0 2 2 2 1 1 0 1 1 2 0 1 2 0 2 2 0 1 0 1 0 1 1 0 0 1 0 0\n",
            " 2 2 0 0 1 0 1 1 1 1 2 0 1 1 1 2 1 2 1 2 1 1 0 1 0 0 1 0 0 1 0 0 1 0 0 2 2\n",
            " 2 1 1 1 2 1 0 2 2 1 2 0 1 1 0 0 1 1 1 2 0 0 2 2 2 1 2 1 1 2 1 0 0 1 2 0 0\n",
            " 0 2 1 1 2 2 1 2 0 1 1 1 1 1 2 0 2 2 0 2 0 1 1 2 0 2 0 2 1 0 2 1 2 2 2 2 1\n",
            " 1 0 0 2 2 2 2 0 1 2 1 0 1 2 0 1 1 1 1 2 2 0 1 1 2 0 1 2 2 0 0 0 2 1 1 0 2\n",
            " 0 2 0 1 2 2 2 2 1 1 1 0 0 2 2 0 2 1 0 1]\n"
          ]
        }
      ]
    },
    {
      "cell_type": "code",
      "source": [
        "print(y_test)"
      ],
      "metadata": {
        "colab": {
          "base_uri": "https://localhost:8080/"
        },
        "id": "V762dL0A-hn3",
        "outputId": "c4a9a252-57aa-49dc-e0c9-21f5ad1824dc"
      },
      "execution_count": null,
      "outputs": [
        {
          "output_type": "stream",
          "name": "stdout",
          "text": [
            "[2 2 0 2 1 2 1 0 0 2 1 0 1 2 0 0 1 2 0 2 2 1 1 2 2 1 2 1 2 1 2 0 2 1 2 0 1\n",
            " 0 1 2 0 0 1 0 1 1 2 1 2 1 2 1 2 0 1 2 1 2 1 2 1 1 2 1 0 2 2 1 0 1 2 1 1 2\n",
            " 2 2 1 1 2 2 1 1 1 2 1 1 0 0 1 2 0 1 1 2 0 2 1 2 2 1 1 1 0 0 0 0 0 0 2 0 2\n",
            " 2 1 0 0 1 2 1 0 1 0 1 2 1 2 1 2 1 1 2 1 0 2 2 1 1 2 0 1 2 0 2 2 2 0 1 2 0\n",
            " 0 0 2 2 1 1 0 2 1 0 1 1 2 2 0 1 0 1 1 0 2 1 0 1 1 2 1 1 1 1 0 1 1 0 1 0 1\n",
            " 0 1 1 1 0 0 0 2 0 2 1 2 1 0 1 1 0 0 1 2 1 0 2 0 2 2 2 2 0 2 1 0 0 2 1 2 2\n",
            " 2 0 1 1 2 1 0 1 2 1 0 2 1 0 1 2 1 1 0 0 1 1 2 0 2 1 0 2 1 1 2 1]\n"
          ]
        }
      ]
    },
    {
      "cell_type": "markdown",
      "metadata": {
        "id": "TpGqbS4TqkIR"
      },
      "source": [
        "## Feature Scaling"
      ]
    },
    {
      "cell_type": "markdown",
      "source": [
        "[Como aplicar o feature scaling](https://www.linkedin.com/pulse/feature-scaling-para-machine-learning-diferen%C3%A7a-entre-monier-jr-/?originalSubdomain=pt)\n"
      ],
      "metadata": {
        "id": "iuPCFQR0A6Hh"
      }
    },
    {
      "cell_type": "markdown",
      "source": [
        "Nesse contexto, não preciso aplicar já que a escala das features não tem tanta discrepância\n"
      ],
      "metadata": {
        "id": "DBH53Q3_Wxd4"
      }
    },
    {
      "cell_type": "code",
      "execution_count": null,
      "metadata": {
        "id": "J5e_a6S9IKaw",
        "outputId": "d82586cd-34d6-4a10-aa3b-1a0af5575830",
        "colab": {
          "base_uri": "https://localhost:8080/",
          "height": 430
        }
      },
      "outputs": [
        {
          "output_type": "display_data",
          "data": {
            "text/plain": [
              "<Figure size 640x480 with 1 Axes>"
            ],
            "image/png": "[encoded data removed]"
          },
          "metadata": {}
        }
      ],
      "source": [
        "ax = sns.histplot(data.iloc[: ,-3:])"
      ]
    },
    {
      "cell_type": "code",
      "metadata": {
        "outputId": "9cc08f7f-554e-4cda-ffbf-6999134e9b49",
        "colab": {
          "base_uri": "https://localhost:8080/",
          "height": 75
        },
        "id": "8ySEpr0KT8u9"
      },
      "source": [
        "from sklearn.tree import DecisionTreeClassifier\n",
        "classifier = DecisionTreeClassifier(criterion = 'entropy', random_state = 0)\n",
        "classifier.fit(X_train, y_train)"
      ],
      "execution_count": null,
      "outputs": [
        {
          "output_type": "execute_result",
          "data": {
            "text/plain": [
              "DecisionTreeClassifier(criterion='entropy', random_state=0)"
            ],
            "text/html": [
              "<style>#sk-container-id-24 {color: black;background-color: white;}#sk-container-id-24 pre{padding: 0;}#sk-container-id-24 div.sk-toggleable {background-color: white;}#sk-container-id-24 label.sk-toggleable__label {cursor: pointer;display: block;width: 100%;margin-bottom: 0;padding: 0.3em;box-sizing: border-box;text-align: center;}#sk-container-id-24 label.sk-toggleable__label-arrow:before {content: \"▸\";float: left;margin-right: 0.25em;color: #696969;}#sk-container-id-24 label.sk-toggleable__label-arrow:hover:before {color: black;}#sk-container-id-24 div.sk-estimator:hover label.sk-toggleable__label-arrow:before {color: black;}#sk-container-id-24 div.sk-toggleable__content {max-height: 0;max-width: 0;overflow: hidden;text-align: left;background-color: #f0f8ff;}#sk-container-id-24 div.sk-toggleable__content pre {margin: 0.2em;color: black;border-radius: 0.25em;background-color: #f0f8ff;}#sk-container-id-24 input.sk-toggleable__control:checked~div.sk-toggleable__content {max-height: 200px;max-width: 100%;overflow: auto;}#sk-container-id-24 input.sk-toggleable__control:checked~label.sk-toggleable__label-arrow:before {content: \"▾\";}#sk-container-id-24 div.sk-estimator input.sk-toggleable__control:checked~label.sk-toggleable__label {background-color: #d4ebff;}#sk-container-id-24 div.sk-label input.sk-toggleable__control:checked~label.sk-toggleable__label {background-color: #d4ebff;}#sk-container-id-24 input.sk-hidden--visually {border: 0;clip: rect(1px 1px 1px 1px);clip: rect(1px, 1px, 1px, 1px);height: 1px;margin: -1px;overflow: hidden;padding: 0;position: absolute;width: 1px;}#sk-container-id-24 div.sk-estimator {font-family: monospace;background-color: #f0f8ff;border: 1px dotted black;border-radius: 0.25em;box-sizing: border-box;margin-bottom: 0.5em;}#sk-container-id-24 div.sk-estimator:hover {background-color: #d4ebff;}#sk-container-id-24 div.sk-parallel-item::after {content: \"\";width: 100%;border-bottom: 1px solid gray;flex-grow: 1;}#sk-container-id-24 div.sk-label:hover label.sk-toggleable__label {background-color: #d4ebff;}#sk-container-id-24 div.sk-serial::before {content: \"\";position: absolute;border-left: 1px solid gray;box-sizing: border-box;top: 0;bottom: 0;left: 50%;z-index: 0;}#sk-container-id-24 div.sk-serial {display: flex;flex-direction: column;align-items: center;background-color: white;padding-right: 0.2em;padding-left: 0.2em;position: relative;}#sk-container-id-24 div.sk-item {position: relative;z-index: 1;}#sk-container-id-24 div.sk-parallel {display: flex;align-items: stretch;justify-content: center;background-color: white;position: relative;}#sk-container-id-24 div.sk-item::before, #sk-container-id-24 div.sk-parallel-item::before {content: \"\";position: absolute;border-left: 1px solid gray;box-sizing: border-box;top: 0;bottom: 0;left: 50%;z-index: -1;}#sk-container-id-24 div.sk-parallel-item {display: flex;flex-direction: column;z-index: 1;position: relative;background-color: white;}#sk-container-id-24 div.sk-parallel-item:first-child::after {align-self: flex-end;width: 50%;}#sk-container-id-24 div.sk-parallel-item:last-child::after {align-self: flex-start;width: 50%;}#sk-container-id-24 div.sk-parallel-item:only-child::after {width: 0;}#sk-container-id-24 div.sk-dashed-wrapped {border: 1px dashed gray;margin: 0 0.4em 0.5em 0.4em;box-sizing: border-box;padding-bottom: 0.4em;background-color: white;}#sk-container-id-24 div.sk-label label {font-family: monospace;font-weight: bold;display: inline-block;line-height: 1.2em;}#sk-container-id-24 div.sk-label-container {text-align: center;}#sk-container-id-24 div.sk-container {/* jupyter's `normalize.less` sets `[hidden] { display: none; }` but bootstrap.min.css set `[hidden] { display: none !important; }` so we also need the `!important` here to be able to override the default hidden behavior on the sphinx rendered scikit-learn.org. See: https://github.com/scikit-learn/scikit-learn/issues/21755 */display: inline-block !important;position: relative;}#sk-container-id-24 div.sk-text-repr-fallback {display: none;}</style><div id=\"sk-container-id-24\" class=\"sk-top-container\"><div class=\"sk-text-repr-fallback\"><pre>DecisionTreeClassifier(criterion=&#x27;entropy&#x27;, random_state=0)</pre><b>In a Jupyter environment, please rerun this cell to show the HTML representation or trust the notebook. <br />On GitHub, the HTML representation is unable to render, please try loading this page with nbviewer.org.</b></div><div class=\"sk-container\" hidden><div class=\"sk-item\"><div class=\"sk-estimator sk-toggleable\"><input class=\"sk-toggleable__control sk-hidden--visually\" id=\"sk-estimator-id-24\" type=\"checkbox\" checked><label for=\"sk-estimator-id-24\" class=\"sk-toggleable__label sk-toggleable__label-arrow\">DecisionTreeClassifier</label><div class=\"sk-toggleable__content\"><pre>DecisionTreeClassifier(criterion=&#x27;entropy&#x27;, random_state=0)</pre></div></div></div></div></div>"
            ]
          },
          "metadata": {},
          "execution_count": 174
        }
      ]
    },
    {
      "cell_type": "code",
      "metadata": {
        "id": "p6VMTb2O4hwM"
      },
      "source": [
        "y_pred = classifier.predict(X_test)\n"
      ],
      "execution_count": null,
      "outputs": []
    },
    {
      "cell_type": "code",
      "metadata": {
        "id": "D6bpZwUiiXic",
        "outputId": "23a13e93-8e4e-4221-b615-a587e957e543",
        "colab": {
          "base_uri": "https://localhost:8080/"
        }
      },
      "source": [
        "from sklearn.metrics import confusion_matrix, accuracy_score, classification_report\n",
        "\n",
        "cm = confusion_matrix(y_test, y_pred)\n",
        "print(cm)\n",
        "accuracy_score(y_test, y_pred)"
      ],
      "execution_count": null,
      "outputs": [
        {
          "output_type": "stream",
          "name": "stdout",
          "text": [
            "[[59  1  8]\n",
            " [ 1 85 16]\n",
            " [ 2 11 71]]\n"
          ]
        },
        {
          "output_type": "execute_result",
          "data": {
            "text/plain": [
              "0.8464566929133859"
            ]
          },
          "metadata": {},
          "execution_count": 201
        }
      ]
    },
    {
      "cell_type": "code",
      "source": [
        "cr = classification_report(y_test, y_pred)\n",
        "print(\"Classification report\")\n",
        "print(cr)"
      ],
      "metadata": {
        "colab": {
          "base_uri": "https://localhost:8080/"
        },
        "id": "DtPn5PXDqNGg",
        "outputId": "ccd5690b-4df9-42ac-d060-c5aca2ac2efc"
      },
      "execution_count": null,
      "outputs": [
        {
          "output_type": "stream",
          "name": "stdout",
          "text": [
            "Classification report\n",
            "              precision    recall  f1-score   support\n",
            "\n",
            "           0       0.95      0.87      0.91        68\n",
            "           1       0.88      0.83      0.85       102\n",
            "           2       0.75      0.85      0.79        84\n",
            "\n",
            "    accuracy                           0.85       254\n",
            "   macro avg       0.86      0.85      0.85       254\n",
            "weighted avg       0.85      0.85      0.85       254\n",
            "\n"
          ]
        }
      ]
    }
  ]
}